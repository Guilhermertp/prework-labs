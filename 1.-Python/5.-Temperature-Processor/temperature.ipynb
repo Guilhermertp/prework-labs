{
 "cells": [
  {
   "cell_type": "markdown",
   "metadata": {},
   "source": [
    "<img src=\"https://bit.ly/2VnXWr2\" width=\"100\" align=\"left\">"
   ]
  },
  {
   "cell_type": "markdown",
   "metadata": {},
   "source": [
    "# Temperature Sensor\n",
    "\n",
    "There is a temperature sensor in the processor of your company's server. The company wants to analyze the data provided by the sensor to decide if they should change the cooling system for a better one. As changing the cooling system is expensive and you are an excellent data analyst, you can't make a decision without basis.\n",
    "\n",
    "## Tools\n",
    "You don't necessarily need to use all the tools. Maybe you opt to use some of them or completely different ones, they are given to help you shape the exercise. Programming exercises can be solved in many different ways.\n",
    "1. Data structures: **lists**\n",
    "2. Loops: **list comprehension**\n",
    "3. Functions: **min, max, print, len**\n",
    "4. Conditional statements: **if-elif-else**\n",
    "\n",
    "## Tasks\n",
    "The temperatures measured throughout the 24 hours of a day are:"
   ]
  },
  {
   "cell_type": "code",
   "execution_count": 1,
   "metadata": {},
   "outputs": [],
   "source": [
    "temperatures_C = [33, 66, 65, 0, 59, 60, 62, 64, 70, 76, 80, 81, 80, 83, 90, 79, 61, 53, 50, 49, 53, 48, 45, 39]"
   ]
  },
  {
   "cell_type": "markdown",
   "metadata": {},
   "source": [
    "The first element of the list is the temperature at 12am, the second element is the temperature at 1am, and so on. \n",
    "\n",
    "The company has decided that if one of the following events occurs, then the cooling system needs to be replaced for a new one to avoid damaging the processor.\n",
    "* More than 4 temperatures are greater than or equal to 70ºC.\n",
    "* Any temperature is above 80ºC.\n",
    "* The average temperature exceeds 65ºC.\n",
    "\n",
    "Follow the steps so that you can make the decision.\n",
    "\n",
    "#### 1. Find the minimum temperature of the day and store it in a variable."
   ]
  },
  {
   "cell_type": "code",
   "execution_count": 2,
   "metadata": {},
   "outputs": [
    {
     "name": "stdout",
     "output_type": "stream",
     "text": [
      "The minium temperature is 0 ºC\n"
     ]
    }
   ],
   "source": [
    "min_temp = min(temperatures_C)\n",
    "print('The minium temperature is',min_temp,'ºC')"
   ]
  },
  {
   "cell_type": "markdown",
   "metadata": {},
   "source": [
    "#### 2. Find the maximum temperature of the day and store it in a variable."
   ]
  },
  {
   "cell_type": "code",
   "execution_count": 3,
   "metadata": {},
   "outputs": [
    {
     "name": "stdout",
     "output_type": "stream",
     "text": [
      "The maximum temperature is 90 ºC\n"
     ]
    }
   ],
   "source": [
    "max_temp = max(temperatures_C)\n",
    "print('The maximum temperature is',max_temp,'ºC')"
   ]
  },
  {
   "cell_type": "markdown",
   "metadata": {},
   "source": [
    "#### 3. Create a list with the temperatures that are greater than or equal to 70ºC. Store it in a variable."
   ]
  },
  {
   "cell_type": "code",
   "execution_count": 4,
   "metadata": {},
   "outputs": [
    {
     "name": "stdout",
     "output_type": "stream",
     "text": [
      "[70, 76, 80, 81, 80, 83, 90, 79]\n"
     ]
    }
   ],
   "source": [
    "list_temp = []\n",
    "for i in temperatures_C:\n",
    "    if i >= 70:\n",
    "        list_temp.append(i)\n",
    "print(list_temp)"
   ]
  },
  {
   "cell_type": "markdown",
   "metadata": {},
   "source": [
    "#### 4. Find the average temperature of the day and store it in a variable."
   ]
  },
  {
   "cell_type": "code",
   "execution_count": 5,
   "metadata": {},
   "outputs": [
    {
     "name": "stdout",
     "output_type": "stream",
     "text": [
      "The average temperature of the day is 60.25 ºC\n"
     ]
    }
   ],
   "source": [
    "avg_temp = sum(temperatures_C)/len(temperatures_C)\n",
    "print('The average temperature of the day is',avg_temp,'ºC')"
   ]
  },
  {
   "cell_type": "markdown",
   "metadata": {},
   "source": [
    "#### 5. Imagine that there was a sensor failure at 3am and the data for that specific hour was not recorded. How would you estimate the missing value? Replace the current value of the list at 3am for an estimation. "
   ]
  },
  {
   "cell_type": "code",
   "execution_count": 6,
   "metadata": {},
   "outputs": [
    {
     "name": "stdout",
     "output_type": "stream",
     "text": [
      "The estimation of the value at 3am is 62.869565217391305 that is the average\n",
      "[33, 66, 65, 62.869565217391305, 59, 60, 62, 64, 70, 76, 80, 81, 80, 83, 90, 79, 61, 53, 50, 49, 53, 48, 45, 39]\n"
     ]
    }
   ],
   "source": [
    "#remove the value at 3 am from the list temperatures_C and create a new list\n",
    "new_temp_list = []\n",
    "for i in temperatures_C:\n",
    "    new_temp_list.append(i)\n",
    "new_temp_list.remove(0)\n",
    "\n",
    "#calculate the average of the new list and add the value to the list at 3am\n",
    "avg_new_temp_list = sum(new_temp_list)/len(new_temp_list)\n",
    "print('The estimation of the value at 3am is',avg_new_temp_list,'that is the average')\n",
    "\n",
    "#Insert the estimatio in the updated list\n",
    "new_temp_list.insert(3,avg_new_temp_list)\n",
    "print(new_temp_list)\n"
   ]
  },
  {
   "cell_type": "markdown",
   "metadata": {},
   "source": [
    "#### 6. Bonus: the maintenance staff is from the United States and does not understand the international metric system. Help them by converting the temperatures from Celsius to Fahrenheit.\n",
    "To know more about temperature conversion check this [link](https://en.wikipedia.org/wiki/Conversion_of_units_of_temperature).\n",
    "\n",
    "**Formula**: \n",
    "\n",
    "$F = 1.8 * C + 32$"
   ]
  },
  {
   "cell_type": "code",
   "execution_count": 37,
   "metadata": {},
   "outputs": [
    {
     "name": "stdout",
     "output_type": "stream",
     "text": [
      "[91.4, 150.8, 149.0, 32.0, 138.2, 140.0, 143.60000000000002, 147.2, 158.0, 168.8, 176.0, 177.8, 176.0, 181.4, 194.0, 174.20000000000002, 141.8, 127.4, 122.0, 120.2, 127.4, 118.4, 113.0, 102.2]\n"
     ]
    }
   ],
   "source": [
    "temperatures_F = []\n",
    "for i in temperatures_C:\n",
    "    F = 1.8 * i + 32\n",
    "    temperatures_F.append(F)\n",
    "print(temperatures_F)\n"
   ]
  },
  {
   "cell_type": "markdown",
   "metadata": {},
   "source": [
    "#### 7. Make a decision!\n",
    "Now it's time to make a decision taking into account what you have seen until now. \n",
    "\n",
    "Remember that if one of the following events occurs, then the cooling system needs to be replaced for a new one to avoid damaging the processor.\n",
    "* More than 4 temperatures are greater than or equal to 70ºC.\n",
    "* Any temperature is above 80ºC.\n",
    "* The average temperature exceeds 65ºC.\n",
    "\n",
    "#### To make your decision, check if any of the three conditions above is met. You might need to use some of the variables you created in steps 1 to 6. Print a message to show if the cooling system needs to be changed or not."
   ]
  },
  {
   "cell_type": "code",
   "execution_count": 29,
   "metadata": {},
   "outputs": [
    {
     "name": "stdout",
     "output_type": "stream",
     "text": [
      "1.The cooling system needs to be replaced, because there are 4 temperatures are greater than or equal to 70ºC\n",
      "2.The cooling system needs to be replaced, because there is one or more temperatures above 80ºC\n",
      "3.The cooling system doesn't needs to be replaced\n"
     ]
    }
   ],
   "source": [
    "if len(list_temp) > 4:\n",
    "    print('1.The cooling system needs to be replaced, because there are 4 temperatures are greater than or equal to 70ºC')\n",
    "else:\n",
    "        print(\"1.The cooling system doesn't needs to be replaced\")\n",
    "\n",
    "for i in temperatures_C:\n",
    "    if i > 80:\n",
    "        print('2.The cooling system needs to be replaced, because there is one or more temperatures above 80ºC')\n",
    "        break\n",
    "        \n",
    "if avg_temp > 65:\n",
    "    print('3.The cooling system needs to be replaced, because the average temperature exceeds 65ºC')\n",
    "else:\n",
    "    print(\"3.The cooling system doesn't needs to be replaced\")\n",
    "    "
   ]
  },
  {
   "cell_type": "markdown",
   "metadata": {},
   "source": [
    "## Bonus\n",
    "\n",
    "The company has decided that the decision you made is not valid. They want you to analyze the data again but this time, the conditions that need to be met in order to change the cooling system are different.\n",
    "\n",
    "This time, if one of the following events occurs, then the cooling system needs to be replaced:\n",
    "* The temperature is greater than 70ºC during more than 4 consecutive hours.\n",
    "* Any temperature is above 80ºC.\n",
    "* The average temperature exceeds 65ºC.\n",
    "\n",
    "Follow the steps so that you can make the decision.\n",
    "\n",
    "#### 1. Create a list with the hours where the temperature is greater than 70ºC. Store it in a variable."
   ]
  },
  {
   "cell_type": "code",
   "execution_count": 9,
   "metadata": {},
   "outputs": [
    {
     "name": "stdout",
     "output_type": "stream",
     "text": [
      "[9, 10, 11, 12, 13, 14, 15]\n"
     ]
    }
   ],
   "source": [
    "list_hours = []\n",
    "i = 0 \n",
    "while i <  len(temperatures_C):\n",
    "    if temperatures_C[i] > 70:\n",
    "        list_hours.append(i)\n",
    "    i +=1\n",
    "print(list_hours)\n",
    "    \n",
    "        "
   ]
  },
  {
   "cell_type": "markdown",
   "metadata": {},
   "source": [
    "#### 2. Check if the list you created in step 1 has more than 4 consecutive hours. "
   ]
  },
  {
   "cell_type": "code",
   "execution_count": 10,
   "metadata": {},
   "outputs": [
    {
     "name": "stdout",
     "output_type": "stream",
     "text": [
      "temperature is greater than 70ºC during more than 4 consecutive hours\n"
     ]
    }
   ],
   "source": [
    "consecutive_hours = []\n",
    "i = 0\n",
    "while i < len (list_hours)-1:\n",
    "    if (list_hours[i+1]-list_hours[i]) ==1:\n",
    "        consecutive_hours.append(list_hours[i+1]-list_hours[i])\n",
    "    i +=1\n",
    "if sum(consecutive_hours) > 4:\n",
    "    print('temperature is greater than 70ºC during more than 4 consecutive hours')\n",
    "    "
   ]
  },
  {
   "cell_type": "markdown",
   "metadata": {},
   "source": [
    "#### 3. Make the decision!\n",
    "To make your decision, check if any of the three conditions is met. Print a message to show if the cooling system needs to be changed or not."
   ]
  },
  {
   "cell_type": "code",
   "execution_count": 34,
   "metadata": {},
   "outputs": [
    {
     "name": "stdout",
     "output_type": "stream",
     "text": [
      "1.The cooling system needs to be replaced, because the temperature is greater than 70ºC during more than 4 consecutive hours\n",
      "2.The cooling system needs to be replaced, because there is one or more temperatures above 80ºC\n",
      "3.The cooling system doesn't needs to be replaced\n"
     ]
    }
   ],
   "source": [
    "if sum(consecutive_hours) > 4:\n",
    "    print('1.The cooling system needs to be replaced, because the temperature is greater than 70ºC during more than 4 consecutive hours')\n",
    "   \n",
    "for i in temperatures_C:\n",
    "    if i > 80:\n",
    "        print('2.The cooling system needs to be replaced, because there is one or more temperatures above 80ºC')\n",
    "        break\n",
    "\n",
    "if avg_temp > 65:\n",
    "    print('3.The cooling system needs to be replaced, because the average temperature exceeds 65ºC')\n",
    "else:\n",
    "    print(\"3.The cooling system doesn't needs to be replaced\")"
   ]
  },
  {
   "cell_type": "markdown",
   "metadata": {},
   "source": [
    "#### 4. Find the average value of the temperature lists (ºC and ºF). What is the relation between both average values?"
   ]
  },
  {
   "cell_type": "code",
   "execution_count": 57,
   "metadata": {},
   "outputs": [
    {
     "name": "stdout",
     "output_type": "stream",
     "text": [
      "The average temperatures in ºC: 60.25\n",
      "The average temperatures in ºF: 140.45\n",
      "\n",
      "The relation between the average values of the temperature in ºC or ºF is given by the formula 𝐹=1.8∗𝐶+32,\n",
      "the conversion of values to the same unit of temperature will result in the same average \n"
     ]
    }
   ],
   "source": [
    "avg_C = sum(temperatures_C)/len(temperatures_C)\n",
    "avg_F = sum(temperatures_F)/len(temperatures_F)\n",
    "print('The average temperatures in ºC:',avg_C)\n",
    "print('The average temperatures in ºF:',avg_F)\n",
    "\n",
    "#𝐹 = 1.8∗𝐶 + 32 \n",
    "#C = (F - 32) /1.8\n",
    "\n",
    "print('\\nThe relation between the average values of the temperature in ºC or ºF is given by the formula 𝐹=1.8∗𝐶+32,\\nthe conversion of values to the same unit of temperature will result in the same average ')"
   ]
  },
  {
   "cell_type": "markdown",
   "metadata": {},
   "source": [
    "#### 5. Find the standard deviation of the temperature lists (ºC and ºF). What is the relation between both standard deviations?"
   ]
  },
  {
   "cell_type": "code",
   "execution_count": 71,
   "metadata": {},
   "outputs": [
    {
     "name": "stdout",
     "output_type": "stream",
     "text": [
      "\n",
      "The standard deviation of the temperature list in Celsius is 19.285681216902866\n",
      "\n",
      "The standard deviation of the temperature list in Fahrenheit is 34.71422619042516\n",
      "\n",
      "If we subtract or add the standard deviation of each temperature list in Celsius or Fahrenheit to their average value,\n",
      "and convert the value into Celsius or Fahrenheit using the formula 𝐹=1.8∗𝐶+32 we will get the same value.\n",
      "\n",
      " average Celsius - standard deviation Celsius = x\n",
      " average Fahrenheit - standard deviation Fahrenheit = y\n",
      " x*1.8+32 =y or (y-32)/1.8 =x\n"
     ]
    }
   ],
   "source": [
    "#std = ( sum(x-avg)**2 )* 1/N ) ^(1/2)\n",
    "N = len(temperatures_C)\n",
    "\n",
    "list_Celsius = []# list with the values of (x-avg)**2 for temperarture in ºC\n",
    "for i in temperatures_C:\n",
    "    list_Celsius.append((i-avg_C)**2)\n",
    "std_Celsius = ( ( sum(list_Celsius)/N )**(1/2) )\n",
    "    \n",
    "list_Fahrenheit = []# list with the values of (x-avg)**2 for temperarture in ºF\n",
    "for i in temperatures_F:\n",
    "    list_Fahrenheit.append((i-avg_F)**2)\n",
    "std_Fahrenheit = ( ( sum(list_Fahrenheit)/N )**(1/2) )\n",
    "\n",
    "\n",
    "print('\\nThe standard deviation of the temperature list in Celsius is',std_Celsius)\n",
    "print('\\nThe standard deviation of the temperature list in Fahrenheit is',std_Fahrenheit)\n",
    "\n",
    "print('\\nIf we subtract or add the standard deviation of each temperature list in Celsius or Fahrenheit to their average value,\\nand convert the value into Celsius or Fahrenheit using the formula 𝐹=1.8∗𝐶+32 we will get the same value.\\n\\n average Celsius - standard deviation Celsius = x\\n average Fahrenheit - standard deviation Fahrenheit = y\\n x*1.8+32 =y or (y-32)/1.8 =x')"
   ]
  },
  {
   "cell_type": "code",
   "execution_count": null,
   "metadata": {},
   "outputs": [],
   "source": []
  }
 ],
 "metadata": {
  "kernelspec": {
   "display_name": "Python 3",
   "language": "python",
   "name": "python3"
  },
  "language_info": {
   "codemirror_mode": {
    "name": "ipython",
    "version": 3
   },
   "file_extension": ".py",
   "mimetype": "text/x-python",
   "name": "python",
   "nbconvert_exporter": "python",
   "pygments_lexer": "ipython3",
   "version": "3.8.5"
  }
 },
 "nbformat": 4,
 "nbformat_minor": 2
}
