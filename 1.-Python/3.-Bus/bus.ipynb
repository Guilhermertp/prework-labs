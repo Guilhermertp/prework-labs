{
 "cells": [
  {
   "cell_type": "markdown",
   "metadata": {},
   "source": [
    "<img src=\"https://bit.ly/2VnXWr2\" width=\"100\" align=\"left\">"
   ]
  },
  {
   "cell_type": "markdown",
   "metadata": {},
   "source": [
    "# Bus\n",
    "\n",
    "This bus has a passenger entry and exit control system to monitor the number of occupants it carries and thus detect when there are too many.\n",
    "\n",
    "At each stop, the entry and exit of passengers is represented by a tuple consisting of two integer numbers.\n",
    "```\n",
    "bus_stop = (in, out)\n",
    "```\n",
    "The succession of stops is represented by a list of these tuples.\n",
    "```\n",
    "stops = [(in1, out1), (in2, out2), (in3, out3), (in4, out4)]\n",
    "```\n",
    "\n",
    "## Tools\n",
    "You don't necessarily need to use all the tools. Maybe you opt to use some of them or completely different ones, they are given to help you shape the exercise. Programming exercises can be solved in many different ways.\n",
    "* Data structures: **lists, tuples**\n",
    "* Loop: **while/for loops**\n",
    "* Functions: **min, max, len**\n",
    "\n",
    "## Tasks"
   ]
  },
  {
   "cell_type": "code",
   "execution_count": 56,
   "metadata": {},
   "outputs": [],
   "source": [
    "# Variables\n",
    "stops = [(10, 0), (4, 1), (3, 5), (3, 4), (5, 1), (1, 5), (5, 8), (4, 6), (2, 3)]"
   ]
  },
  {
   "cell_type": "markdown",
   "metadata": {},
   "source": [
    "#### 1. Calculate the number of stops."
   ]
  },
  {
   "cell_type": "code",
   "execution_count": 57,
   "metadata": {},
   "outputs": [
    {
     "name": "stdout",
     "output_type": "stream",
     "text": [
      "The number of stops is 9\n"
     ]
    }
   ],
   "source": [
    "print('The number of stops is',len(stops))"
   ]
  },
  {
   "cell_type": "markdown",
   "metadata": {},
   "source": [
    "#### 2. Assign to a variable a list whose elements are the number of passengers at each stop (in-out).\n",
    "Each item depends on the previous item in the list + in - out."
   ]
  },
  {
   "cell_type": "code",
   "execution_count": 58,
   "metadata": {},
   "outputs": [],
   "source": [
    "a = stops[0][0]\n",
    "b = stops[0][0]+stops[1][0]-stops[1][1]\n",
    "c = ( stops[0][0]+stops[1][0]-stops[1][1]) + stops[2][0]-stops[2][1]\n",
    "d = ((stops[0][0]+stops[1][0]-stops[1][1]) + stops[2][0]-stops[2][1]) + stops[3][0]-stops[3][1]\n",
    "e = (((stops[0][0]+stops[1][0]-stops[1][1]) + stops[2][0]-stops[2][1]) + stops[3][0]-stops[3][1]) + stops[4][0]-stops[4][1]\n",
    "f = ((((stops[0][0]+stops[1][0]-stops[1][1]) + stops[2][0]-stops[2][1]) + stops[3][0]-stops[3][1]) + stops[4][0]-stops[4][1]) + stops[5][0]-stops[5][1]\n",
    "g = (((((stops[0][0]+stops[1][0]-stops[1][1]) + stops[2][0]-stops[2][1]) + stops[3][0]-stops[3][1]) + stops[4][0]-stops[4][1]) + stops[5][0]-stops[5][1]) + stops[6][0]-stops[6][1]\n",
    "h = ((((((stops[0][0]+stops[1][0]-stops[1][1]) + stops[2][0]-stops[2][1]) + stops[3][0]-stops[3][1]) + stops[4][0]-stops[4][1]) + stops[5][0]-stops[5][1]) + stops[6][0]-stops[6][1]) + stops[7][0]-stops[7][1]\n",
    "i = (((((((stops[0][0]+stops[1][0]-stops[1][1]) + stops[2][0]-stops[2][1]) + stops[3][0]-stops[3][1]) + stops[4][0]-stops[4][1]) + stops[5][0]-stops[5][1]) + stops[6][0]-stops[6][1]) + stops[7][0]-stops[7][1])  + stops[8][0]-stops[8][1]\n",
    "\n",
    "\n",
    "\n",
    "list_passangers = []\n",
    "\n",
    "list_passangers.append(a)\n",
    "list_passangers.append(b)\n",
    "list_passangers.append(c)\n",
    "list_passangers.append(d)\n",
    "list_passangers.append(e)\n",
    "list_passangers.append(f)\n",
    "list_passangers.append(g)\n",
    "list_passangers.append(h)\n",
    "list_passangers.append(i)"
   ]
  },
  {
   "cell_type": "markdown",
   "metadata": {},
   "source": [
    "#### 3. Find the maximum occupation of the bus."
   ]
  },
  {
   "cell_type": "code",
   "execution_count": 62,
   "metadata": {},
   "outputs": [
    {
     "name": "stdout",
     "output_type": "stream",
     "text": [
      "The maximum ocupations of the bus is 14 passangers\n"
     ]
    }
   ],
   "source": [
    "print('The maximum ocupations of the bus is',max(list_passangers),'passangers')"
   ]
  },
  {
   "cell_type": "markdown",
   "metadata": {},
   "source": [
    "#### 4. Calculate the average occupation. And the standard deviation."
   ]
  },
  {
   "cell_type": "code",
   "execution_count": 61,
   "metadata": {},
   "outputs": [
    {
     "name": "stdout",
     "output_type": "stream",
     "text": [
      "The average ocupation is 9.333333333333334\n",
      "\n",
      "The standard deviation of the number of passengers in the bus is 3.197221015541813\n"
     ]
    }
   ],
   "source": [
    "average_ocupation = sum(list_passangers)/len(list_passangers)\n",
    "print('The average ocupation is',average_ocupation)\n",
    "\n",
    "a = []\n",
    "for passangers in list_passangers:\n",
    "    a.append((passangers - average_ocupation)**2)\n",
    "\n",
    "std_passangers = (sum(a)*1/len(list_passangers))**(1/2)\n",
    "\n",
    "print('\\nThe standard deviation of the number of passengers in the bus is',std_passangers)"
   ]
  },
  {
   "cell_type": "code",
   "execution_count": null,
   "metadata": {},
   "outputs": [],
   "source": []
  }
 ],
 "metadata": {
  "kernelspec": {
   "display_name": "Python 3",
   "language": "python",
   "name": "python3"
  },
  "language_info": {
   "codemirror_mode": {
    "name": "ipython",
    "version": 3
   },
   "file_extension": ".py",
   "mimetype": "text/x-python",
   "name": "python",
   "nbconvert_exporter": "python",
   "pygments_lexer": "ipython3",
   "version": "3.8.5"
  }
 },
 "nbformat": 4,
 "nbformat_minor": 2
}
