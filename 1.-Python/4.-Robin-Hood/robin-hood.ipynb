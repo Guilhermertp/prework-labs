{
 "cells": [
  {
   "cell_type": "markdown",
   "metadata": {},
   "source": [
    "<img src=\"https://bit.ly/2VnXWr2\" width=\"100\" align=\"left\"/>"
   ]
  },
  {
   "cell_type": "markdown",
   "metadata": {},
   "source": [
    "# Robin Hood\n",
    "Robin Hood has entered a competition to win the archery contest in Sherwood. With his bow and arrows, he needs to shoot on a target and try to hit as close as possible to the center.\n",
    "\n",
    "![](images/arrows.jpg)\n",
    "\n",
    "## Context\n",
    "In this challenge, the landing position of arrows shot by archers in the competition will be represented using 2-dimensional coordinates. \n",
    "\n",
    "In the 2-dimensional space, a point can be defined by a pair of values that correspond to the horizontal coordinate (x) and the vertical coordinate (y). For example, in our case, an arrow that hits the center of the archery target will land in position (0, 0) on the coordinate axes. \n",
    "\n",
    "The space can be divided into 4 zones (quadrants): Q1, Q2, Q3, Q4. If a point is in Q1, both its x coordinate and y coordinate are positive. Any point with a null x or y coordinate is considered to not belong to any quadrant. \n",
    "\n",
    "If you want to know more about the cartesian coordinate system, you can check this [link](https://en.wikipedia.org/wiki/Cartesian_coordinate_system). \n",
    "\n",
    "## Tools\n",
    "You don't necessarily need to use all the tools. Maybe you opt to use some of them or completely different ones, they are given to help you shape the exercise. Programming exercises can be solved in many different ways.\n",
    "* Data structures: **lists, sets, tuples**\n",
    "* Conditional statements: **if-elif-else**\n",
    "* Loop: **while/for**\n",
    "* Minimum (optional sorting)\n",
    "\n",
    "## Tasks\n",
    "Robin Hood has hit the following points:"
   ]
  },
  {
   "cell_type": "code",
   "execution_count": 3,
   "metadata": {},
   "outputs": [],
   "source": [
    "points = [(4, 5), (-0, 2), (4, 7), (1, -3), (3, -2), (4, 5), (3, 2), (5, 7), (-5, 7), (2, 2), (-4, 5), (0, -2),\n",
    "          (-4, 7), (-1, 3), (-3, 2), (-4, -5), (-3, 2), (5, 7), (5, 7), (2, 2), (9, 9), (-8, -9)]"
   ]
  },
  {
   "cell_type": "markdown",
   "metadata": {},
   "source": [
    "#### 1. Robin Hood is famous for hitting an arrow with another arrow. Find the coordinates of the points where an arrow hits another arrow."
   ]
  },
  {
   "cell_type": "code",
   "execution_count": 4,
   "metadata": {},
   "outputs": [
    {
     "name": "stdout",
     "output_type": "stream",
     "text": [
      "The coordinates where an arrow hits another arrow are: {(-3, 2), (4, 5), (5, 7), (2, 2)}\n"
     ]
    }
   ],
   "source": [
    "arrow_hit_arrow = set()\n",
    "\n",
    "for i in points:\n",
    "    if points.count(i)>1:\n",
    "        arrow_hit_arrow.add(i)\n",
    "\n",
    "print('The coordinates where an arrow hits another arrow are:',arrow_hit_arrow)\n"
   ]
  },
  {
   "cell_type": "markdown",
   "metadata": {},
   "source": [
    "#### 2. Calculate how many arrows have fallen in each quadrant. \n",
    "**Note**: the arrows that fall in the axis (x=0 or y=0) don't belong to any quadrant."
   ]
  },
  {
   "cell_type": "code",
   "execution_count": 5,
   "metadata": {},
   "outputs": [
    {
     "name": "stdout",
     "output_type": "stream",
     "text": [
      "\n",
      "There are 10  arrows in Q1.\n",
      "\n",
      "There are 6  arrows in Q2.\n",
      "\n",
      "There are 2  arrows in Q3.\n",
      "\n",
      "There are 2  arrows in Q4.\n"
     ]
    }
   ],
   "source": [
    "#Transforms the tupples into list type\n",
    "i = 0\n",
    "list_points = []\n",
    "while i < len(points):\n",
    "    list_points.append(list(points[i]))\n",
    "    i += 1\n",
    "\n",
    "#print('\\n',list_points)\n",
    "\n",
    "#Creates a list with all the coordinates on the Q1 \n",
    "Q1 = []\n",
    "i= 0\n",
    "while i < len(list_points):\n",
    " if list_points[i][0] >0 and list_points[i][1] >0:\n",
    "     Q1.append(list_points[i])\n",
    " i += 1\n",
    "#print('\\nCoordinates of the arrows in Q1:',Q1)\n",
    "\n",
    "print('\\nThere are',len(Q1),' arrows in Q1.')\n",
    "\n",
    "#Creates a list with all the coordinates on the Q2 \n",
    "Q2 = []\n",
    "i= 0\n",
    "while i < len(list_points):\n",
    " if list_points[i][0] <0 and list_points[i][1] >0:\n",
    "     Q2.append(list_points[i])\n",
    " i += 1\n",
    "#print('\\nCoordinates of the arrows in Q2:',Q2)\n",
    "\n",
    "print('\\nThere are',len(Q2),' arrows in Q2.')\n",
    "\n",
    "#Creates a list with all the coordinates on the Q3 \n",
    "Q3 = []\n",
    "i= 0\n",
    "while i < len(list_points):\n",
    " if list_points[i][0] <0 and list_points[i][1] <0:\n",
    "     Q3.append(list_points[i])\n",
    " i += 1\n",
    "#print('\\nCoordinates of the arrows in Q3:',Q3)\n",
    "\n",
    "print('\\nThere are',len(Q3),' arrows in Q3.')\n",
    "\n",
    "#Creates a list with all the coordinates on the Q4 \n",
    "Q4 = []\n",
    "i= 0\n",
    "while i < len(list_points):\n",
    " if list_points[i][0] >0 and list_points[i][1] <0:\n",
    "     Q4.append(list_points[i])\n",
    " i += 1\n",
    "#print('\\nCoordinates of the arrows in Q4:',Q4)\n",
    "\n",
    "print('\\nThere are',len(Q4),' arrows in Q4.')"
   ]
  },
  {
   "cell_type": "markdown",
   "metadata": {},
   "source": [
    "#### 3. Find the point closest to the center. Calculate its distance to the center. \n",
    "Take into account that there might be more than one point at the minimum distance to the center.\n",
    "\n",
    "**Hint**: Use the Euclidean distance. You can find more information about it [here](https://en.wikipedia.org/wiki/Euclidean_distance).  \n",
    "**Hint**: Defining a function that calculates the distance to the center can help."
   ]
  },
  {
   "cell_type": "code",
   "execution_count": 12,
   "metadata": {},
   "outputs": [
    {
     "name": "stdout",
     "output_type": "stream",
     "text": [
      "\n",
      "The arrows closest to the center have the distance of 2.0\n",
      "\n",
      "The arrows closest to the center have the coordinates of [[0, 2], [0, -2]]\n"
     ]
    }
   ],
   "source": [
    "dist_center = []\n",
    "coordinates_close_center = []\n",
    "i= 0\n",
    "while i < len(list_points):\n",
    " distance = ( ( (list_points[i][0])**2 )+ ( (list_points[i][1])**2) )**(1/2)\n",
    " dist_center.append(distance)\n",
    " if distance == min(dist_center):\n",
    "     coordinates_close_center.append(list_points[i])\n",
    " i += 1\n",
    "\n",
    "i= 0\n",
    "min_dist = []\n",
    "for i in range(len(list_points)) :\n",
    "    dist = ( ( (list_points[i][0])**2 )+ ( (list_points[i][1])**2) )**(1/2)\n",
    "    if dist == min(dist_center):\n",
    "        min_dist.append(list_points[i])\n",
    "    i += 1\n",
    " \n",
    "print('\\nThe arrows closest to the center have the distance of',min(dist_center))\n",
    "print('\\nThe arrows closest to the center have the coordinates of',min_dist)"
   ]
  },
  {
   "cell_type": "markdown",
   "metadata": {},
   "source": [
    "#### 4. If the archery target has a radius of 9, calculate the number of arrows that won't hit the target. \n",
    "**Hint**: Use the function created in step 3. "
   ]
  },
  {
   "cell_type": "code",
   "execution_count": 13,
   "metadata": {},
   "outputs": [
    {
     "name": "stdout",
     "output_type": "stream",
     "text": [
      "\n",
      "The number of arrows that won't hit the target are 2 and have the coordinates [[9, 9], [-8, -9]]\n"
     ]
    }
   ],
   "source": [
    "target_out = []\n",
    "i= 0\n",
    "while i < len(list_points):\n",
    " distance = ( ( (list_points[i][0])**2 )+ ( (list_points[i][1])**2) )**(1/2)\n",
    " if distance > 9 :\n",
    "     target_out.append(list_points[i])\n",
    " i += 1\n",
    "\n",
    "print(\"\\nThe number of arrows that won't hit the target are\",len(target_out),\"and have the coordinates\",target_out) "
   ]
  },
  {
   "cell_type": "code",
   "execution_count": null,
   "metadata": {},
   "outputs": [],
   "source": []
  }
 ],
 "metadata": {
  "kernelspec": {
   "display_name": "Python 3",
   "language": "python",
   "name": "python3"
  },
  "language_info": {
   "codemirror_mode": {
    "name": "ipython",
    "version": 3
   },
   "file_extension": ".py",
   "mimetype": "text/x-python",
   "name": "python",
   "nbconvert_exporter": "python",
   "pygments_lexer": "ipython3",
   "version": "3.8.5"
  }
 },
 "nbformat": 4,
 "nbformat_minor": 2
}
